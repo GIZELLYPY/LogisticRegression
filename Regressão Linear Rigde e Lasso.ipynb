{
 "cells": [
  {
   "cell_type": "markdown",
   "metadata": {},
   "source": [
    "# Regressão Linear Rigde e Lasso\n",
    "\n"
   ]
  },
  {
   "cell_type": "markdown",
   "metadata": {},
   "source": [
    "A tarefa da regressão linear é de estimar os valores para os coeficientes do modelo, ŵᵢ e b^.\n",
    "Eles dão ao moledo o melhor ajuste dos dados de treinamento com o menor erro quadrado.\n",
    "\n",
    "O método de regressão linear atua estimando os pesos w das características, os quais são chamados de coeficientes do modelo, e armazena isso no atributo coeff_, ou seja, em linreg.coef_ e o termo de viés, b, que é armazenado no atributo intercept_, em linreg.intercept_. Observe que, se um atributo de um objeto do Scikit-Learn termina com um sublinhado, isso significa que esses atributos foram derivados de dados de treinamento, e que não são quantidades que foram definidas pelo usuário.\n",
    "\n",
    "\n",
    "\n",
    "\n",
    "\n",
    "\n",
    "\n",
    "* Regressão Linerar: é o processo de estimar uma linha reta que tenta preve uma saida  a partir de atributos de entrada. \n",
    "\n",
    "\n",
    "> Regularização é um conceito extremamente importante em aprendizado de máquina. É uma forma de evitar sobreajuste e, portanto, de melhorar a chance de bom desempenho de generalização de um modelo, restringindo as possíveis configurações dos parâmetros dos modelos. Geralmente o efeito desta restrição, devido à regularização, é reduzir a complexidade do modelo final estimado. Em outras palavras, mantendo tudo mais constante.\n",
    "\n",
    "\n",
    "\n",
    "> A intensidade de regularização a ser aplicada é controlada pelo parâmetro alfa. Alfa maior significa mais regularização e modelos lineares mais simples e com pesos mais próximos de zero. O valor padrão para alfa é 1,0. Observe que fazer alfa igual a zero corresponde ao caso especial de regressão linear de mínimos quadrados ordinários\n",
    "   \n",
    "\n",
    "* Regressão Linear Ridge: Regularização L2\n",
    "\n",
    "    - Tem como objetivo reduzir a magnetude dos parâmetros, com o objetivo de evitar colinearidade. \n",
    "\n",
    "    - Reduz a complexidade do modelo pelo encolhimento do coeficiente.\n",
    "\n",
    "    \n",
    "\n",
    "* Regressão Linear Lasso: Regularização L1\n",
    "  \n",
    "    - Tenta zerar parâmetros que estão contribuindo pouco ao invés de simplesmente reduzir a magnitude como a L2 faz. \n",
    "    - Feature Selection: Aproxima parâmetros que pouco contribuem do zero absoluto. \n",
    "    - Ideal ser utilizada para grande quantidade de atributos. \n",
    "    - Pode ser usada em pré-processamento para entender os dados. \n",
    "    \n",
    "\n",
    "\n",
    "\n"
   ]
  },
  {
   "cell_type": "code",
   "execution_count": 1,
   "metadata": {},
   "outputs": [
    {
     "name": "stdout",
     "output_type": "stream",
     "text": [
      "Número de atributos originais:  (506, 13)\n"
     ]
    }
   ],
   "source": [
    "from sklearn.datasets import load_boston\n",
    "from sklearn.model_selection import train_test_split\n",
    "from sklearn.preprocessing import MinMaxScaler, PolynomialFeatures\n",
    "from sklearn.linear_model import LinearRegression, Ridge, Lasso\n",
    "\n",
    "import numpy as np\n",
    "import matplotlib.pyplot as plt\n",
    "\n",
    "boston = load_boston()\n",
    "\n",
    "X = boston.data\n",
    "y = boston.target\n",
    "\n",
    "print(\"Número de atributos originais: \", X.shape)\n",
    "\n"
   ]
  },
  {
   "cell_type": "code",
   "execution_count": 2,
   "metadata": {},
   "outputs": [
    {
     "name": "stdout",
     "output_type": "stream",
     "text": [
      "Polinomial Features Atributos Redundantes:  (506, 104)\n"
     ]
    }
   ],
   "source": [
    "# O PolynomialFeatures aumenta a dimensão dos dados produzindo novos atributos \n",
    "# que são combinações lineares dos dados originais.\n",
    "\n",
    "X  = MinMaxScaler().fit_transform(boston.data)\n",
    "\n",
    "X = PolynomialFeatures(degree=2,include_bias=False).fit_transform(X)\n",
    "\n",
    "\n",
    "print(\"Polinomial Features Atributos Redundantes: \", X.shape)\n",
    "\n",
    "\n"
   ]
  },
  {
   "cell_type": "code",
   "execution_count": 3,
   "metadata": {},
   "outputs": [],
   "source": [
    "X_train, X_test, y_train, y_test = train_test_split(X, y, random_state=0)"
   ]
  },
  {
   "attachments": {},
   "cell_type": "markdown",
   "metadata": {},
   "source": [
    "### Regressão Linear"
   ]
  },
  {
   "cell_type": "code",
   "execution_count": 4,
   "metadata": {},
   "outputs": [
    {
     "name": "stdout",
     "output_type": "stream",
     "text": [
      "LinearRegression\n",
      "Acurácia treinamento: 0.95\n",
      "Acurácia de testes: 0.95\n",
      "LinearRegression coeff (w): [-4.12710947e+02 -5.22432068e+01 -1.31898815e+02 -1.20041365e+01\n",
      " -1.55107129e+01  2.87163342e+01  5.47040992e+01 -4.95346659e+01\n",
      "  2.65823927e+01  3.70620316e+01 -1.18281674e+01 -1.80581965e+01\n",
      " -1.95246830e+01  1.22025403e+01  2.98078144e+03  1.50084257e+03\n",
      "  1.14187325e+02 -1.69700520e+01  4.09613691e+01 -2.42636646e+01\n",
      "  5.76157466e+01  1.27812142e+03 -2.23986944e+03  2.22825472e+02\n",
      " -2.18201083e+00  4.29960320e+01 -1.33981515e+01 -1.93893485e+01\n",
      " -2.57541277e+00 -8.10130128e+01  9.66019367e+00  4.91423718e+00\n",
      " -8.12114800e-01 -7.64694179e+00  3.37837099e+01 -1.14464390e+01\n",
      "  6.85083979e+01 -1.73753604e+01  4.28128204e+01  1.13988209e+00\n",
      " -7.72696840e-01  5.68255921e+01  1.42875996e+01  5.39551110e+01\n",
      " -3.21709644e+01  1.92709675e+01 -1.38852338e+01  6.06343266e+01\n",
      " -1.23153942e+01 -1.20041365e+01 -1.77243899e+01 -3.39868183e+01\n",
      "  7.08999816e+00 -9.22538241e+00  1.71980268e+01 -1.27718431e+01\n",
      " -1.19727581e+01  5.73871915e+01 -1.75331865e+01  4.10103194e+00\n",
      "  2.93666477e+01 -1.76611772e+01  7.84049424e+01 -3.19098015e+01\n",
      "  4.81752461e+01 -3.95344813e+01  5.22959055e+00  2.19982410e+01\n",
      "  2.56483934e+01 -4.99982035e+01  2.91457545e+01  8.94267456e+00\n",
      " -7.16599297e+01 -2.28147862e+01  8.40660981e+00 -5.37905422e+00\n",
      "  1.20137322e+00 -5.20877186e+00  4.11452351e+01 -3.78250760e+01\n",
      " -2.67163851e+00 -2.55217108e+01 -3.33982030e+01  4.62272693e+01\n",
      " -2.41509169e+01 -1.77532970e+01 -1.39723701e+01 -2.35522208e+01\n",
      "  3.68353800e+01 -9.46890859e+01  1.44302810e+02 -1.51158659e+01\n",
      " -1.49513436e+01 -2.87729579e+01 -3.17673192e+01  2.49551594e+01\n",
      " -1.84384534e+01  3.65073948e+00  1.73101122e+00  3.53617137e+01\n",
      "  1.19553429e+01  6.77025947e-01  2.73452009e+00  3.03720012e+01]\n",
      "linear model intercept (b): 30.935\n",
      "R-squared score (training): 0.952\n",
      "R-squared score (test): 0.607\n"
     ]
    }
   ],
   "source": [
    "linreg = LinearRegression().fit(X_train, y_train)\n",
    "\n",
    "print(\"LinearRegression\")\n",
    "print(\"Acurácia treinamento: {:.2f}\".format(linreg.score(X_train,y_train)))\n",
    "print(\"Acurácia de testes: {:.2f}\".format(linreg.score(X_train,y_train)))\n",
    "print('LinearRegression coeff (w): {}'.format(linreg.coef_))\n",
    "print('linear model intercept (b): {:.3f}'.format(linreg.intercept_))\n",
    "print('R-squared score (training): {:.3f}'.format(linreg.score(X_train, y_train)))\n",
    "print('R-squared score (test): {:.3f}'.format(linreg.score(X_test, y_test)))"
   ]
  },
  {
   "cell_type": "markdown",
   "metadata": {},
   "source": [
    "### Regressão Linear Ridge\n",
    "#### Regularização L2"
   ]
  },
  {
   "cell_type": "markdown",
   "metadata": {},
   "source": [
    "Força uma redução dos coeficientes, penalizando coeficientes grandes que não contribuem significativamente para a explicação da variância do sinal.  \n",
    "\n",
    "> A força da regularização é dada pelo atributo alpha."
   ]
  },
  {
   "cell_type": "code",
   "execution_count": 5,
   "metadata": {},
   "outputs": [
    {
     "name": "stdout",
     "output_type": "stream",
     "text": [
      "Ridge alpha=1\n",
      "Acurácia treinamento: 0.89\n",
      "Acurácia de testes: 0.89\n",
      "ridge1 coeff (w): [-1.41368408e+00 -1.55661895e+00 -1.46543409e+00 -1.26616071e-01\n",
      " -7.91193605e-02  8.33161023e+00  2.54975060e-01 -4.94145701e+00\n",
      "  3.89862268e+00 -1.05866058e+00 -1.58433734e+00  1.05103856e+00\n",
      " -4.01220799e+00  3.33720475e-01  3.64725471e-03 -8.49295793e-01\n",
      "  7.44989267e-01 -1.43106836e+00 -1.62981017e+00 -1.40486294e+00\n",
      " -4.47314366e-02 -1.74619880e+00 -1.46715888e+00 -1.33237111e+00\n",
      " -1.69154625e+00 -5.06179637e-01  2.62197591e+00 -2.09210002e+00\n",
      "  1.95074661e-01 -2.75469422e-01  5.11308202e+00 -1.67083739e+00\n",
      " -9.81863179e-02  6.34477127e-01 -6.10008281e-01  4.01805897e-02\n",
      " -1.27661999e+00 -2.91349679e+00  3.39544035e+00  7.91904036e-01\n",
      "  1.35260232e+00 -4.03661265e+00  2.32361734e+00 -3.36712926e+00\n",
      "  1.81279204e+00  3.01566897e+00 -1.89452070e+00 -2.50844073e-01\n",
      " -2.89543735e+00 -1.26616071e-01 -5.00217192e+00 -2.43951806e+00\n",
      "  2.85071846e+00 -8.57081177e-01  2.99141960e+00  2.34589755e+00\n",
      "  1.31207081e+00  1.71845119e+00 -2.59766697e+00 -1.32370675e+00\n",
      " -2.81242223e+00 -2.09117058e+00 -1.08428335e+00 -2.73843625e+00\n",
      " -1.61989753e+00 -2.80493280e+00  9.44641482e-01 -1.65363374e+00\n",
      "  1.66553558e+01 -1.10980551e+00  2.14188605e+00 -8.03855387e+00\n",
      " -8.59149928e+00 -7.54161099e+00  1.02924022e+01 -7.96425897e+00\n",
      "  7.68540742e-01 -1.85213002e+00  2.51497387e+00 -3.42074257e-01\n",
      " -1.79604278e+00 -2.93048162e-01 -4.78242379e+00  8.63283317e-01\n",
      "  4.22361423e-01 -1.41656695e+00 -2.12023113e-01 -5.08121369e+00\n",
      " -5.47247509e-01  1.53835390e+00  1.81348033e+00  1.97252021e+00\n",
      "  1.81849652e+00 -7.14338697e+00  1.10472533e+00  1.42242216e+00\n",
      " -1.31494020e+00 -6.77170441e+00  1.82204476e+00 -2.36112444e+00\n",
      "  4.34670572e-02  1.20886000e+00 -6.32599163e+00  1.03600231e+01]\n",
      "ridge1 intercept (b): 21.391\n",
      "R-squared score (training): 0.886\n",
      "R-squared score (test): 0.753\n"
     ]
    }
   ],
   "source": [
    "# Alpha = 1\n",
    "\n",
    "\n",
    "ridge1 = Ridge().fit(X_train,y_train)\n",
    "\n",
    "print(\"Ridge alpha=1\")\n",
    "print(\"Acurácia treinamento: {:.2f}\".format(ridge1.score(X_train,y_train)))\n",
    "print(\"Acurácia de testes: {:.2f}\".format(ridge1.score(X_train,y_train)))\n",
    "print('ridge1 coeff (w): {}'.format(ridge1.coef_))\n",
    "print('ridge1 intercept (b): {:.3f}'.format(ridge1.intercept_))\n",
    "print('R-squared score (training): {:.3f}'.format(ridge1.score(X_train, y_train)))\n",
    "print('R-squared score (test): {:.3f}'.format(ridge1.score(X_test, y_test)))"
   ]
  },
  {
   "cell_type": "code",
   "execution_count": 6,
   "metadata": {},
   "outputs": [
    {
     "name": "stdout",
     "output_type": "stream",
     "text": [
      "Ridge alpha=0.001\n",
      "Acurácia treinamento: 0.95\n",
      "Acurácia de testes: 0.95\n",
      "ridge01 coeff (w): [-8.24839647e+00 -2.28314057e+01 -7.89613558e+01 -1.30811000e+01\n",
      " -9.11946977e+00  3.64396955e+01  4.94032184e+01 -3.53172321e+01\n",
      "  3.13586225e+01 -9.34346460e-01 -2.45951765e+00  5.53240721e+00\n",
      " -1.30090271e+01  1.03887956e+01  3.77963421e+00  1.47830860e+01\n",
      "  8.88923932e+01 -1.76906885e+01  3.37597839e+01 -2.55917380e+01\n",
      "  1.69940386e+01 -9.97296508e+00  1.71091802e-01 -1.20293044e+01\n",
      " -1.99875385e+00  3.33066880e+01 -7.66363830e+00 -1.37985946e+01\n",
      " -8.78409877e-01 -4.95109896e+01  7.20273867e+00  1.91073862e+00\n",
      " -7.23969674e+00 -3.15009164e+00  2.69006587e+01 -5.40422843e+00\n",
      "  3.32300528e+01 -1.29212720e+01  2.95177141e+01 -1.14096569e-01\n",
      "  1.80690899e+01  4.67535128e+01  1.32621433e+01  4.33531259e+01\n",
      "  1.96719604e+00  1.57449759e+01 -6.82228253e+00  1.40785985e+01\n",
      " -1.38512928e+01 -1.30811000e+01 -1.61395976e+01 -3.12716543e+01\n",
      "  8.67645215e+00 -5.24161457e+00  1.14599468e+01 -5.60724760e+00\n",
      " -7.85071609e+00  5.34371894e+01 -1.76317001e+01 -2.84451260e+00\n",
      "  2.34883725e+01 -1.73333492e+01  4.50721372e+01 -1.70795440e+01\n",
      "  2.35242387e+01 -3.32103282e+01  5.37311912e+00  1.81021608e+01\n",
      "  2.22223571e+01 -4.69631683e+01  2.12644187e+01  4.67131748e+00\n",
      " -6.11458935e+01 -2.50066350e+01  8.23101931e+00 -5.71973592e+00\n",
      "  6.39610729e-01 -2.12858599e+00  3.80097669e+01 -3.08502584e+01\n",
      " -2.88969499e+00 -2.27614842e+01 -3.15040245e+01  4.32666308e+01\n",
      " -8.07649692e+00 -9.28261935e+00 -1.34711875e+01 -2.69749170e+01\n",
      "  2.59348801e+01 -7.88512182e+01  9.84892617e+01 -1.15283743e+01\n",
      " -2.71273116e+01 -2.43646739e+01 -1.79196819e+01  2.09688347e+01\n",
      "  1.51824157e+01 -2.31181573e+00  4.09906012e+00  1.98208492e+01\n",
      "  9.66845999e+00 -5.44740433e-02  4.07900223e-01  3.13851101e+01]\n",
      "ridge01 intercept (b): 7.122\n",
      "R-squared score (training): 0.951\n",
      "R-squared score (test): 0.630\n"
     ]
    }
   ],
   "source": [
    "# Alpha = 0.1\n",
    "\n",
    "ridge01 = Ridge(alpha=0.001).fit(X_train,y_train)\n",
    "\n",
    "print(\"Ridge alpha=0.001\")\n",
    "print(\"Acurácia treinamento: {:.2f}\".format(ridge01.score(X_train,y_train)))\n",
    "print(\"Acurácia de testes: {:.2f}\".format(ridge01.score(X_train,y_train)))\n",
    "print('ridge01 coeff (w): {}'.format(ridge01.coef_))\n",
    "print('ridge01 intercept (b): {:.3f}'.format(ridge01.intercept_))\n",
    "print('R-squared score (training): {:.3f}'.format(ridge01.score(X_train, y_train)))\n",
    "print('R-squared score (test): {:.3f}'.format(ridge01.score(X_test, y_test)))"
   ]
  },
  {
   "cell_type": "code",
   "execution_count": 7,
   "metadata": {},
   "outputs": [
    {
     "name": "stdout",
     "output_type": "stream",
     "text": [
      "Ridge alpha=10\n",
      "Acurácia treinamento: 0.79\n",
      "Acurácia de testes: 0.79\n",
      "ridge10 coeff (w): [-8.11609631e-01  6.47608896e-01 -8.09783229e-01  3.11334709e-01\n",
      " -6.84623747e-01  4.38797575e+00 -1.47554474e-01 -2.44214065e+00\n",
      "  8.45915099e-01 -1.14727508e+00 -2.33162040e+00  1.06787015e+00\n",
      " -3.98391025e+00 -5.98636976e-01  2.93228193e-03 -5.21253823e-01\n",
      "  1.40339673e-01 -6.45256057e-01 -7.61400539e-01 -7.47231171e-01\n",
      " -3.86298005e-02 -8.29808059e-01 -7.52859756e-01 -6.75605899e-01\n",
      " -8.72001488e-01 -3.23330640e-01  1.27336327e+00 -3.37279550e-01\n",
      "  6.30682038e-02  2.37092897e-01  2.09805607e+00  1.00996768e-01\n",
      " -2.79529662e-01  1.73222619e-01 -3.33557850e-01 -3.74226653e-01\n",
      "  6.98414808e-01 -6.96284918e-01  7.79521010e-01  3.74843210e-01\n",
      " -6.24101244e-01 -7.63657605e-01  4.35756439e-02 -1.04000852e+00\n",
      "  4.24401576e-01  4.78687021e-01 -3.84125445e-01 -9.93802653e-02\n",
      " -1.30226356e+00  3.11334709e-01 -5.92097637e-01  6.33816542e-01\n",
      "  6.66792895e-01 -1.27959944e-01  1.35346930e+00  1.09839246e+00\n",
      "  6.37100148e-01  4.76402917e-01 -9.70121915e-01 -1.43819286e+00\n",
      " -6.91866218e-02 -9.29335512e-01 -4.55299563e-01 -6.56129378e-01\n",
      " -9.31180916e-01 -1.17260753e+00  3.35509026e-01 -1.76546423e+00\n",
      "  7.02804084e+00  1.51765506e+00  3.90833563e-01 -1.21723366e+00\n",
      " -1.86718575e+00 -1.36105591e+00  5.46323332e+00 -2.89652146e+00\n",
      "  1.26693013e-01 -1.48311656e+00  5.35392087e-01 -4.89624715e-01\n",
      " -1.62979525e+00  6.13665753e-01 -2.98786893e+00 -1.27807033e+00\n",
      " -2.83056586e-01 -1.03432949e+00 -1.69293338e+00 -2.26352788e+00\n",
      " -1.33076511e+00  9.26721453e-01  6.27047921e-01  2.35007586e-01\n",
      "  1.33438639e+00 -1.88410183e+00  3.92630676e-01 -4.42694598e-01\n",
      " -4.54914088e-01 -2.05668359e+00 -1.49547766e+00 -1.76954962e+00\n",
      " -2.03637103e+00  1.07984916e+00 -3.95264092e+00  1.42448967e-01]\n",
      "ridge10 intercept (b): 25.011\n",
      "R-squared score (training): 0.788\n",
      "R-squared score (test): 0.636\n"
     ]
    }
   ],
   "source": [
    "# Alpha = 10\n",
    "\n",
    "ridge10 = Ridge(alpha=10).fit(X_train,y_train)\n",
    "\n",
    "print(\"Ridge alpha=10\")\n",
    "print(\"Acurácia treinamento: {:.2f}\".format(ridge10.score(X_train,y_train)))\n",
    "print(\"Acurácia de testes: {:.2f}\".format(ridge10.score(X_train,y_train)))\n",
    "print('ridge10 coeff (w): {}'.format(ridge10.coef_))\n",
    "print('ridge10 intercept (b): {:.3f}'.format(ridge10.intercept_))\n",
    "print('R-squared score (training): {:.3f}'.format(ridge10.score(X_train, y_train)))\n",
    "print('R-squared score (test): {:.3f}'.format(ridge10.score(X_test, y_test)))"
   ]
  },
  {
   "cell_type": "markdown",
   "metadata": {},
   "source": [
    "## Regressão Linear Lasso\n",
    "### Regularização L1 "
   ]
  },
  {
   "cell_type": "markdown",
   "metadata": {},
   "source": [
    "Com a Regressão Lasso, um subconjunto dos coeficientes são forçados a ser precisamente zero. Que é um tipo de seleção automática de características, Dado que, tendo peso zero, as características são, por construção, completamente ignoradas no modelo. Esta solução esparsa onde apenas um subconjunto das características mais importantes são deixadas com pesos não-nulos, também torna o modelo mais fácil de interpretar. Em casos onde há um número considerável de variáveis de entrada. Assim com na Regressão Ridge, a intensidade de regularização para a Regressão LASSO é controlada pelo parâmetro alpha, que por padrão é 1.0. Também como na Regressão Ridge, a finalidade de usar Regressão LASSO é estimar os coeficientes \"W\" e \"b\" do modelo.\n",
    "\n",
    "\n",
    "Em geral, a Regressão do LASSO é mais útil se você acha que existem apenas algumas variáveis que têm médio ou muito efeito sobre a variável de saída. Caso contrário, se existem muitas variáveis que contribuem com pequenos ou médios efeitos, Regressão Ridge é normalmente a melhor escolha. Vamos dar uma olhada na Regressão LASSO em scikit-learn usando o ambiente notebook, usando informações sobre crime como conjunto de dados de regressão. Para usar a Regressão LASSO, importa-se a classe de \"Lasso\" do \"sklearn.linear_model\", e então usa-se como você usaria um estimador para Regressão de Cume. Com alguns conjuntos de dados você pode, ocasionalmente, receber um aviso de convergência, nesse caso, você pode definir um valor maior para o atributo \"max_iter\"."
   ]
  },
  {
   "cell_type": "code",
   "execution_count": 8,
   "metadata": {},
   "outputs": [
    {
     "name": "stdout",
     "output_type": "stream",
     "text": [
      "Lasso alpha=1\n",
      "Acurácia treinamento: 0.29\n",
      "Acurácia de testes: 0.29\n",
      "lasso1 coeff (w): [-0.          0.         -0.          0.         -0.          0.\n",
      " -0.          0.         -0.         -0.         -0.          0.\n",
      " -5.3529079  -0.          0.         -0.          0.         -0.\n",
      " -0.         -0.         -0.         -0.         -0.         -0.\n",
      " -0.         -0.          0.          0.          0.          0.\n",
      "  0.          0.          0.          0.          0.          0.\n",
      "  0.          0.         -0.          0.         -0.         -0.\n",
      " -0.         -0.         -0.         -0.         -0.         -0.\n",
      " -0.          0.          0.          0.          0.          0.\n",
      "  0.          0.          0.          0.         -0.         -0.\n",
      " -0.         -0.         -0.         -0.         -0.         -0.\n",
      " -0.         -0.          0.          0.          0.         -0.\n",
      " -0.         -0.          0.         -0.         -0.          0.\n",
      " -0.         -1.05063037 -3.3104274  -0.         -0.          0.\n",
      " -0.         -0.         -0.          0.         -0.         -0.41386744\n",
      " -0.         -0.         -0.         -0.         -0.         -0.\n",
      " -0.         -0.         -0.         -0.         -0.          0.\n",
      " -0.         -0.        ]\n",
      "lasso1 intercept (b): 26.125\n",
      "R-squared score (training): 0.293\n",
      "R-squared score (test): 0.209\n",
      "Número total de atributos: 104, Número de atributos usados: 4\n"
     ]
    }
   ],
   "source": [
    "# Alpha = 1\n",
    "\n",
    "lasso1 = Lasso().fit(X_train,y_train)\n",
    "\n",
    "\n",
    "print(\"Lasso alpha=1\")\n",
    "print(\"Acurácia treinamento: {:.2f}\".format(lasso1.score(X_train,y_train)))\n",
    "print(\"Acurácia de testes: {:.2f}\".format(lasso1.score(X_train,y_train)))\n",
    "print('lasso1 coeff (w): {}'.format(lasso1.coef_))\n",
    "print('lasso1 intercept (b): {:.3f}'.format(lasso1.intercept_))\n",
    "print('R-squared score (training): {:.3f}'.format(lasso1.score(X_train, y_train)))\n",
    "print('R-squared score (test): {:.3f}'.format(lasso1.score(X_test, y_test)))\n",
    "print(\"Número total de atributos: 104, Número de atributos usados: {}\".format(np.sum(lasso1.coef_ != 0)))\n",
    "\n",
    "\n",
    "\n",
    "#print('Features with non-zero weight (sorted by absolute magnitude):')\n",
    "\n",
    "#for e in sorted (list(zip(list(X), lasso1.coef_)),\n",
    "#                key = lambda e: -abs(e[1])):\n",
    "#    if e[1] != 0:\n",
    "#        print('\\t{}, {:.3f}'.format(e[0], e[1]))\n"
   ]
  },
  {
   "cell_type": "code",
   "execution_count": 9,
   "metadata": {},
   "outputs": [
    {
     "name": "stdout",
     "output_type": "stream",
     "text": [
      "Lasso alpha=0.1\n",
      "Acurácia treinamento: 0.94\n",
      "Acurácia de testes: 0.94\n",
      "lasso01 coeff (w): [ -0.          -1.70538694 -16.01872303  -7.19850649  -0.\n",
      "  49.61003442  23.54698899  -2.04948056  11.49968653  -0.\n",
      "   2.84196671  14.22308733  -0.           7.48541517   0.\n",
      "  -0.          15.46929733  -0.           0.         -10.18831292\n",
      "   0.          -7.31244152  -0.          -0.          -0.\n",
      "  -0.           2.55774271  -0.           0.          -0.\n",
      "   0.          -1.10688237  -1.79814212   0.           4.10204429\n",
      "  -0.          -0.         -10.54729728  12.64301424   0.\n",
      "  16.46380364  11.78599185   7.72580211   0.          12.6732543\n",
      "   7.90847241 -12.66143695  -0.         -25.31465721  -3.81166111\n",
      " -14.32930882 -23.24376211   6.24980116  -0.           4.43897872\n",
      "   6.7652082   -1.34990132  27.19791839 -12.40214727  -0.\n",
      "  -0.          -9.44593051   0.         -14.91419257  -0.\n",
      "  -0.35371886   0.           3.23655132  15.67950534 -30.85200039\n",
      "   0.          -6.91806721 -27.02822578 -30.50139853  10.27847463\n",
      "  -0.4945246    0.           2.60971092  24.15049672 -15.91283508\n",
      "  -0.          -9.63604304 -21.3180218   15.30530124   4.49321522\n",
      "   2.45005207  -0.         -23.04122861   0.         -27.03153299\n",
      "  25.56249415   0.          -9.23218892 -16.54211812  -0.\n",
      "  16.11091913  -0.          -7.0988878    2.71106923   4.79261807\n",
      "   0.8039716    0.59024212  -4.60253351  34.73191049]\n",
      "lasso01 intercept (b): -9.215\n",
      "R-squared score (training): 0.939\n",
      "R-squared score (test): 0.739\n",
      "Número total de atributos: 104, Número de atributos usados: 67\n"
     ]
    }
   ],
   "source": [
    "# Alpha = 0.1\n",
    "\n",
    "lasso01 = Lasso(alpha=0.001,  max_iter = 20000).fit(X_train,y_train)\n",
    "\n",
    "\n",
    "print(\"Lasso alpha=0.1\")\n",
    "print(\"Acurácia treinamento: {:.2f}\".format(lasso01.score(X_train,y_train)))\n",
    "print(\"Acurácia de testes: {:.2f}\".format(lasso01.score(X_train,y_train)))\n",
    "print('lasso01 coeff (w): {}'.format(lasso01.coef_))\n",
    "print('lasso01 intercept (b): {:.3f}'.format(lasso01.intercept_))\n",
    "print('R-squared score (training): {:.3f}'.format(lasso01.score(X_train, y_train)))\n",
    "print('R-squared score (test): {:.3f}'.format(lasso01.score(X_test, y_test)))\n",
    "print(\"Número total de atributos: 104, Número de atributos usados: {}\".format(np.sum(lasso01.coef_ != 0)))\n",
    "\n"
   ]
  },
  {
   "cell_type": "code",
   "execution_count": 10,
   "metadata": {},
   "outputs": [
    {
     "name": "stdout",
     "output_type": "stream",
     "text": [
      "Lasso alpha=10\n",
      "Acurácia treinamento: 0.00\n",
      "Acurácia de testes: 0.00\n",
      "lasso10 coeff (w): [-0.  0. -0.  0. -0.  0. -0.  0. -0. -0. -0.  0. -0. -0.  0. -0.  0. -0.\n",
      " -0. -0. -0. -0. -0. -0. -0. -0.  0.  0.  0.  0.  0.  0.  0.  0.  0.  0.\n",
      "  0.  0. -0.  0. -0. -0. -0. -0. -0. -0. -0. -0. -0.  0.  0.  0.  0.  0.\n",
      "  0.  0.  0.  0. -0. -0. -0. -0. -0. -0. -0. -0. -0. -0.  0. -0.  0. -0.\n",
      " -0. -0.  0. -0. -0.  0. -0. -0. -0. -0. -0.  0. -0. -0.  0.  0. -0. -0.\n",
      " -0. -0. -0. -0. -0. -0. -0. -0. -0. -0. -0.  0. -0. -0.]\n",
      "lasso10 intercept (b): 22.609\n",
      "R-squared score (training): 0.000\n",
      "R-squared score (test): -0.001\n",
      "Número total de atributos: 104, Número de atributos usados: 0\n"
     ]
    }
   ],
   "source": [
    "# Alpha = 10\n",
    "\n",
    "lasso10 = Lasso(alpha=10).fit(X_train,y_train)\n",
    "\n",
    "\n",
    "print(\"Lasso alpha=10\")\n",
    "print(\"Acurácia treinamento: {:.2f}\".format(lasso10.score(X_train,y_train)))\n",
    "print(\"Acurácia de testes: {:.2f}\".format(lasso10.score(X_train,y_train)))\n",
    "print('lasso10 coeff (w): {}'.format(lasso10.coef_))\n",
    "print('lasso10 intercept (b): {:.3f}'.format(lasso10.intercept_))\n",
    "print('R-squared score (training): {:.3f}'.format(lasso10.score(X_train, y_train)))\n",
    "print('R-squared score (test): {:.3f}'.format(lasso10.score(X_test, y_test)))\n",
    "print(\"Número total de atributos: 104, Número de atributos usados: {}\".format(np.sum(lasso10.coef_ != 0)))"
   ]
  },
  {
   "cell_type": "markdown",
   "metadata": {},
   "source": [
    "## Comparação"
   ]
  },
  {
   "cell_type": "markdown",
   "metadata": {},
   "source": [
    "Pesos zerados ( com magnitude muito próxima a zero indicam que a feature cujo peso é relacionado não possui grande importância para o modelo.)"
   ]
  },
  {
   "cell_type": "markdown",
   "metadata": {},
   "source": [
    "### Comparação de Ridge com Regressão Linear"
   ]
  },
  {
   "cell_type": "code",
   "execution_count": 11,
   "metadata": {
    "scrolled": true
   },
   "outputs": [
    {
     "data": {
      "text/plain": [
       "<matplotlib.legend.Legend at 0x29b9c08e760>"
      ]
     },
     "execution_count": 11,
     "metadata": {},
     "output_type": "execute_result"
    },
    {
     "data": {
      "image/png": "[encoded data removed]",
      "text/plain": [
       "<Figure size 648x432 with 1 Axes>"
      ]
     },
     "metadata": {
      "needs_background": "light"
     },
     "output_type": "display_data"
    }
   ],
   "source": [
    "plt.figure(figsize=(9,6))\n",
    "\n",
    "plt.plot(ridge1.coef_,'s', label=\"Ridge alpha=1\")\n",
    "plt.plot(ridge01.coef_,'*', label=\"Ridge alpha=0.1\")\n",
    "plt.plot(ridge10.coef_,'>', label=\"Ridge alpha=10\")\n",
    "\n",
    "\n",
    "plt.xlabel(\"Coeficiente\")\n",
    "plt.ylabel(\"Magnitude\")\n",
    "plt.hlines(0, 0, len(linreg.coef_))\n",
    "plt.ylim(-25,25)\n",
    "\n",
    "plt.legend()\n",
    "\n"
   ]
  },
  {
   "attachments": {},
   "cell_type": "markdown",
   "metadata": {},
   "source": []
  },
  {
   "cell_type": "markdown",
   "metadata": {},
   "source": [
    "### Comparação de Lasso com Regressão Linear"
   ]
  },
  {
   "cell_type": "code",
   "execution_count": 12,
   "metadata": {},
   "outputs": [
    {
     "data": {
      "text/plain": [
       "<matplotlib.legend.Legend at 0x29b9d3e0b20>"
      ]
     },
     "execution_count": 12,
     "metadata": {},
     "output_type": "execute_result"
    },
    {
     "data": {
      "image/png": "[encoded data removed]",
      "text/plain": [
       "<Figure size 648x432 with 1 Axes>"
      ]
     },
     "metadata": {
      "needs_background": "light"
     },
     "output_type": "display_data"
    }
   ],
   "source": [
    "plt.figure(figsize=(9,6))\n",
    "\n",
    "\n",
    "plt.plot(lasso1.coef_,'s', label=\"Lasso alpha=1\")\n",
    "plt.plot(lasso01.coef_,'*', label=\"Lasso alpha=0.1\")\n",
    "plt.plot(lasso10.coef_,'>', label=\"Lasso alpha=10\")\n",
    "\n",
    "plt.xlabel(\"Coeficiente\")\n",
    "plt.ylabel(\"Magnitude\")\n",
    "plt.hlines(0, 0, len(linreg.coef_))\n",
    "plt.ylim(-25,25)\n",
    "\n",
    "plt.legend()\n"
   ]
  },
  {
   "cell_type": "markdown",
   "metadata": {},
   "source": []
  },
  {
   "cell_type": "code",
   "execution_count": null,
   "metadata": {},
   "outputs": [],
   "source": []
  }
 ],
 "metadata": {
  "kernelspec": {
   "display_name": "Python 3",
   "language": "python",
   "name": "python3"
  },
  "language_info": {
   "codemirror_mode": {
    "name": "ipython",
    "version": 3
   },
   "file_extension": ".py",
   "mimetype": "text/x-python",
   "name": "python",
   "nbconvert_exporter": "python",
   "pygments_lexer": "ipython3",
   "version": "3.8.3"
  }
 },
 "nbformat": 4,
 "nbformat_minor": 4
}
